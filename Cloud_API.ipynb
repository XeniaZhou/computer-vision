{
  "nbformat": 4,
  "nbformat_minor": 0,
  "metadata": {
    "colab": {
      "name": "Cloud API.ipynb",
      "provenance": [],
      "authorship_tag": "ABX9TyMCwgTFVyPTcba51Aq/dcHn",
      "include_colab_link": true
    },
    "kernelspec": {
      "name": "python3",
      "display_name": "Python 3"
    }
  },
  "cells": [
    {
      "cell_type": "markdown",
      "metadata": {
        "id": "view-in-github",
        "colab_type": "text"
      },
      "source": [
        "<a href=\"https://colab.research.google.com/github/XeniaZhou/computer-vision/blob/master/Cloud_API.ipynb\" target=\"_parent\"><img src=\"https://colab.research.google.com/assets/colab-badge.svg\" alt=\"Open In Colab\"/></a>"
      ]
    },
    {
      "cell_type": "markdown",
      "metadata": {
        "id": "Izr8KasjQ_Jz",
        "colab_type": "text"
      },
      "source": [
        "#Initialization"
      ]
    },
    {
      "cell_type": "code",
      "metadata": {
        "id": "pGBhCs_28zdL",
        "colab_type": "code",
        "colab": {
          "base_uri": "https://localhost:8080/",
          "height": 34
        },
        "outputId": "21e1916b-6219-4c6a-f2f0-d41fbf183910"
      },
      "source": [
        "import getpass\n",
        "\n",
        "APIKEY = getpass.getpass()"
      ],
      "execution_count": 48,
      "outputs": [
        {
          "output_type": "stream",
          "text": [
            "··········\n"
          ],
          "name": "stdout"
        }
      ]
    },
    {
      "cell_type": "code",
      "metadata": {
        "id": "22Dhd-Rk9DLD",
        "colab_type": "code",
        "colab": {
          "base_uri": "https://localhost:8080/",
          "height": 507
        },
        "outputId": "02bcf8a8-d1d5-4e34-a422-315f6ab23c98"
      },
      "source": [
        "!pip install google-auth\n",
        "!pip install --upgrade pip\n",
        "!pip install --upgrade google-api-python-client"
      ],
      "execution_count": 49,
      "outputs": [
        {
          "output_type": "stream",
          "text": [
            "Requirement already satisfied: google-auth in /usr/local/lib/python3.6/dist-packages (1.20.0)\n",
            "Requirement already satisfied: pyasn1-modules>=0.2.1 in /usr/local/lib/python3.6/dist-packages (from google-auth) (0.2.8)\n",
            "Requirement already satisfied: six>=1.9.0 in /usr/local/lib/python3.6/dist-packages (from google-auth) (1.15.0)\n",
            "Requirement already satisfied: rsa<5,>=3.1.4; python_version >= \"3.5\" in /usr/local/lib/python3.6/dist-packages (from google-auth) (4.6)\n",
            "Requirement already satisfied: setuptools>=40.3.0 in /usr/local/lib/python3.6/dist-packages (from google-auth) (49.2.0)\n",
            "Requirement already satisfied: cachetools<5.0,>=2.0.0 in /usr/local/lib/python3.6/dist-packages (from google-auth) (4.1.1)\n",
            "Requirement already satisfied: pyasn1<0.5.0,>=0.4.6 in /usr/local/lib/python3.6/dist-packages (from pyasn1-modules>=0.2.1->google-auth) (0.4.8)\n",
            "Requirement already up-to-date: pip in /usr/local/lib/python3.6/dist-packages (20.2.1)\n",
            "Requirement already up-to-date: google-api-python-client in /usr/local/lib/python3.6/dist-packages (1.10.0)\n",
            "Requirement already satisfied, skipping upgrade: six<2dev,>=1.6.1 in /usr/local/lib/python3.6/dist-packages (from google-api-python-client) (1.15.0)\n",
            "Requirement already satisfied, skipping upgrade: google-api-core<2dev,>=1.18.0 in /usr/local/lib/python3.6/dist-packages (from google-api-python-client) (1.22.0)\n",
            "Requirement already satisfied, skipping upgrade: httplib2<1dev,>=0.9.2 in /usr/local/lib/python3.6/dist-packages (from google-api-python-client) (0.17.4)\n",
            "Requirement already satisfied, skipping upgrade: google-auth>=1.16.0 in /usr/local/lib/python3.6/dist-packages (from google-api-python-client) (1.20.0)\n",
            "Requirement already satisfied, skipping upgrade: google-auth-httplib2>=0.0.3 in /usr/local/lib/python3.6/dist-packages (from google-api-python-client) (0.0.4)\n",
            "Requirement already satisfied, skipping upgrade: uritemplate<4dev,>=3.0.0 in /usr/local/lib/python3.6/dist-packages (from google-api-python-client) (3.0.1)\n",
            "Requirement already satisfied, skipping upgrade: setuptools>=34.0.0 in /usr/local/lib/python3.6/dist-packages (from google-api-core<2dev,>=1.18.0->google-api-python-client) (49.2.0)\n",
            "Requirement already satisfied, skipping upgrade: requests<3.0.0dev,>=2.18.0 in /usr/local/lib/python3.6/dist-packages (from google-api-core<2dev,>=1.18.0->google-api-python-client) (2.23.0)\n",
            "Requirement already satisfied, skipping upgrade: pytz in /usr/local/lib/python3.6/dist-packages (from google-api-core<2dev,>=1.18.0->google-api-python-client) (2018.9)\n",
            "Requirement already satisfied, skipping upgrade: googleapis-common-protos<2.0dev,>=1.6.0 in /usr/local/lib/python3.6/dist-packages (from google-api-core<2dev,>=1.18.0->google-api-python-client) (1.52.0)\n",
            "Requirement already satisfied, skipping upgrade: protobuf>=3.12.0 in /usr/local/lib/python3.6/dist-packages (from google-api-core<2dev,>=1.18.0->google-api-python-client) (3.12.4)\n",
            "Requirement already satisfied, skipping upgrade: cachetools<5.0,>=2.0.0 in /usr/local/lib/python3.6/dist-packages (from google-auth>=1.16.0->google-api-python-client) (4.1.1)\n",
            "Requirement already satisfied, skipping upgrade: pyasn1-modules>=0.2.1 in /usr/local/lib/python3.6/dist-packages (from google-auth>=1.16.0->google-api-python-client) (0.2.8)\n",
            "Requirement already satisfied, skipping upgrade: rsa<5,>=3.1.4; python_version >= \"3.5\" in /usr/local/lib/python3.6/dist-packages (from google-auth>=1.16.0->google-api-python-client) (4.6)\n",
            "Requirement already satisfied, skipping upgrade: idna<3,>=2.5 in /usr/local/lib/python3.6/dist-packages (from requests<3.0.0dev,>=2.18.0->google-api-core<2dev,>=1.18.0->google-api-python-client) (2.10)\n",
            "Requirement already satisfied, skipping upgrade: urllib3!=1.25.0,!=1.25.1,<1.26,>=1.21.1 in /usr/local/lib/python3.6/dist-packages (from requests<3.0.0dev,>=2.18.0->google-api-core<2dev,>=1.18.0->google-api-python-client) (1.24.3)\n",
            "Requirement already satisfied, skipping upgrade: certifi>=2017.4.17 in /usr/local/lib/python3.6/dist-packages (from requests<3.0.0dev,>=2.18.0->google-api-core<2dev,>=1.18.0->google-api-python-client) (2020.6.20)\n",
            "Requirement already satisfied, skipping upgrade: chardet<4,>=3.0.2 in /usr/local/lib/python3.6/dist-packages (from requests<3.0.0dev,>=2.18.0->google-api-core<2dev,>=1.18.0->google-api-python-client) (3.0.4)\n",
            "Requirement already satisfied, skipping upgrade: pyasn1<0.5.0,>=0.4.6 in /usr/local/lib/python3.6/dist-packages (from pyasn1-modules>=0.2.1->google-auth>=1.16.0->google-api-python-client) (0.4.8)\n"
          ],
          "name": "stdout"
        }
      ]
    },
    {
      "cell_type": "markdown",
      "metadata": {
        "id": "En-0bXZNRIOo",
        "colab_type": "text"
      },
      "source": [
        "# Text Detection"
      ]
    },
    {
      "cell_type": "code",
      "metadata": {
        "id": "Pz8kEuzWARBd",
        "colab_type": "code",
        "colab": {
          "base_uri": "https://localhost:8080/",
          "height": 470
        },
        "outputId": "1f982df5-173d-45c7-b05a-0c496737a77d"
      },
      "source": [
        "import IPython.display\n",
        "\n",
        "IPython.display.Image(url=\"https://storage.googleapis.com/computer-vision/slogan.jpg\",\n",
        "                      width=600)\n",
        "\n"
      ],
      "execution_count": 50,
      "outputs": [
        {
          "output_type": "execute_result",
          "data": {
            "text/html": [
              "<img src=\"https://storage.googleapis.com/computer-vision/slogan.jpg\" width=\"600\"/>"
            ],
            "text/plain": [
              "<IPython.core.display.Image object>"
            ]
          },
          "metadata": {
            "tags": []
          },
          "execution_count": 50
        }
      ]
    },
    {
      "cell_type": "code",
      "metadata": {
        "id": "Nk3ZUb8yLJWQ",
        "colab_type": "code",
        "colab": {}
      },
      "source": [
        "from googleapiclient.discovery import build\n",
        "import base64"
      ],
      "execution_count": 51,
      "outputs": []
    },
    {
      "cell_type": "code",
      "metadata": {
        "id": "grkjZCn1K474",
        "colab_type": "code",
        "colab": {
          "base_uri": "https://localhost:8080/",
          "height": 118
        },
        "outputId": "630dd3d5-8fe6-4c98-cd52-8f49c1d59b86"
      },
      "source": [
        "IMAGE=\"https://storage.googleapis.com/computer-vision/slogan.jpg\"\n",
        "vservice = build('vision', 'v1', developerKey=APIKEY)\n",
        "request = vservice.images().annotate(body={\n",
        "        'requests': [{\n",
        "                'image': {\n",
        "                    'source': {\n",
        "                        'imageUri': IMAGE\n",
        "                    }\n",
        "                },\n",
        "                'features': [{\n",
        "                    'type': 'TEXT_DETECTION',\n",
        "                    'maxResults': 5,\n",
        "                }]\n",
        "            }],\n",
        "        })\n",
        "responses = request.execute(num_retries=5)\n",
        "print(responses['responses'][0]['textAnnotations'][0]['description'])"
      ],
      "execution_count": 52,
      "outputs": [
        {
          "output_type": "stream",
          "text": [
            "САТCHY\n",
            "SLOGANS\n",
            "COSMETIC BUSINESS\n",
            "-\n",
            "www.thebrandboy.com\n",
            "\n"
          ],
          "name": "stdout"
        }
      ]
    },
    {
      "cell_type": "markdown",
      "metadata": {
        "id": "__Jv1tC3RRfA",
        "colab_type": "text"
      },
      "source": [
        "# Label Detection"
      ]
    },
    {
      "cell_type": "code",
      "metadata": {
        "id": "7x93TKVpQD6v",
        "colab_type": "code",
        "colab": {
          "base_uri": "https://localhost:8080/",
          "height": 920
        },
        "outputId": "77637f60-c563-4aca-a292-90a69c7f46e9"
      },
      "source": [
        "IPython.display.Image(url=\"https://storage.googleapis.com/computer-vision/181.jpg\",\n",
        "                      width=600)"
      ],
      "execution_count": 53,
      "outputs": [
        {
          "output_type": "execute_result",
          "data": {
            "text/html": [
              "<img src=\"https://storage.googleapis.com/computer-vision/181.jpg\" width=\"600\"/>"
            ],
            "text/plain": [
              "<IPython.core.display.Image object>"
            ]
          },
          "metadata": {
            "tags": []
          },
          "execution_count": 53
        }
      ]
    },
    {
      "cell_type": "code",
      "metadata": {
        "id": "fVORqRnWNMB5",
        "colab_type": "code",
        "colab": {
          "base_uri": "https://localhost:8080/",
          "height": 134
        },
        "outputId": "4cb1a692-52df-42c1-b67a-efc1169310b6"
      },
      "source": [
        "IMAGE2=\"https://storage.googleapis.com/computer-vision/181.jpg\"\n",
        "vservice = build('vision', 'v1', developerKey=APIKEY)\n",
        "request = vservice.images().annotate(body={\n",
        "        'requests': [{\n",
        "                'image': {\n",
        "                    'source': {\n",
        "                        'imageUri': IMAGE2\n",
        "                    }\n",
        "                },\n",
        "                'features': [{\n",
        "                    'type': 'LABEL_DETECTION',\n",
        "                    'maxResults': 7,\n",
        "                }]\n",
        "            }],\n",
        "        })\n",
        "responses = request.execute(num_retries=7)\n",
        "labels = responses['responses'][0]['labelAnnotations']\n",
        "for i in labels:\n",
        "  print(\"description: \",i['description'],\"; score: \", i['score'], \"; topicality: \", i['topicality'])"
      ],
      "execution_count": 54,
      "outputs": [
        {
          "output_type": "stream",
          "text": [
            "description:  Fashion ; score:  0.895908 ; topicality:  0.895908\n",
            "description:  Performance ; score:  0.88376856 ; topicality:  0.88376856\n",
            "description:  Singer ; score:  0.8285444 ; topicality:  0.8285444\n",
            "description:  Outerwear ; score:  0.8030299 ; topicality:  0.8030299\n",
            "description:  Human ; score:  0.7467646 ; topicality:  0.7467646\n",
            "description:  Fashion model ; score:  0.7455054 ; topicality:  0.7455054\n",
            "description:  Pop music ; score:  0.70748806 ; topicality:  0.70748806\n"
          ],
          "name": "stdout"
        }
      ]
    },
    {
      "cell_type": "markdown",
      "metadata": {
        "id": "KisvBcK6RW2y",
        "colab_type": "text"
      },
      "source": [
        "# LOGO Detection"
      ]
    },
    {
      "cell_type": "code",
      "metadata": {
        "id": "TuEs-Ik0Q9iO",
        "colab_type": "code",
        "colab": {
          "base_uri": "https://localhost:8080/",
          "height": 358
        },
        "outputId": "e2c37ae9-09ce-4443-e713-32367a350d4b"
      },
      "source": [
        "IPython.display.Image(url=\"https://storage.googleapis.com/computer-vision/logo.jpg\",\n",
        "                      width=600)"
      ],
      "execution_count": 55,
      "outputs": [
        {
          "output_type": "execute_result",
          "data": {
            "text/html": [
              "<img src=\"https://storage.googleapis.com/computer-vision/logo.jpg\" width=\"600\"/>"
            ],
            "text/plain": [
              "<IPython.core.display.Image object>"
            ]
          },
          "metadata": {
            "tags": []
          },
          "execution_count": 55
        }
      ]
    },
    {
      "cell_type": "code",
      "metadata": {
        "id": "dgnNmTlnRvdb",
        "colab_type": "code",
        "colab": {}
      },
      "source": [
        "IMAGE2=\"https://storage.googleapis.com/computer-vision/logo.jpg\"\n",
        "vservice = build('vision', 'v1', developerKey=APIKEY)\n",
        "request = vservice.images().annotate(body={\n",
        "        'requests': [{\n",
        "                'image': {\n",
        "                    'source': {\n",
        "                        'imageUri': IMAGE2\n",
        "                    }\n",
        "                },\n",
        "                'features': [{\n",
        "                    'type': 'LABEL_DETECTION',\n",
        "                    'maxResults': 7,\n",
        "                }]\n",
        "            }],\n",
        "        })\n",
        "responses = request.execute(num_retries=7)\n",
        "labels = responses['responses'][0]['labelAnnotations']\n",
        "for i in labels:\n",
        "  print(\"description: \",i['description'],\"; score: \", i['score'], \"; topicality: \", i['topicality'])"
      ],
      "execution_count": null,
      "outputs": []
    }
  ]
}